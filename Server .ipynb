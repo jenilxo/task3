{
 "cells": [
  {
   "cell_type": "markdown",
   "id": "d3e23cc9",
   "metadata": {},
   "source": [
    "\n",
    "# SERVER SIDE \n"
   ]
  },
  {
   "cell_type": "code",
   "execution_count": null,
   "id": "bca00eae",
   "metadata": {},
   "outputs": [],
   "source": [
    "import cv2\n",
    "import socket\n",
    "import pickle\n",
    "import struct"
   ]
  },
  {
   "cell_type": "markdown",
   "id": "cdac48b8",
   "metadata": {},
   "source": [
    "# Creating Sockit "
   ]
  },
  {
   "cell_type": "code",
   "execution_count": null,
   "id": "cc98f2f0",
   "metadata": {},
   "outputs": [],
   "source": [
    "server_socket = socket.socket(socket.AF_INET,socket.SOCK_STREAM)\n",
    "port = 10050\n",
    "socket_address = ('192.168.0.114',port)"
   ]
  },
  {
   "cell_type": "markdown",
   "id": "4e70b25a",
   "metadata": {},
   "source": [
    "# Socket Binding "
   ]
  },
  {
   "cell_type": "code",
   "execution_count": null,
   "id": "72cb4465",
   "metadata": {},
   "outputs": [],
   "source": [
    "server_socket.bind(socket_address)"
   ]
  },
  {
   "cell_type": "markdown",
   "id": "5f8e5954",
   "metadata": {},
   "source": [
    "# Socket Listen "
   ]
  },
  {
   "cell_type": "code",
   "execution_count": null,
   "id": "434fa0ff",
   "metadata": {},
   "outputs": [],
   "source": [
    "server_socket.listen(5)\n",
    "print(\"LISTENING AT:\",socket_address)"
   ]
  },
  {
   "cell_type": "markdown",
   "id": "44b1ff74",
   "metadata": {},
   "source": [
    "# Socket Accept "
   ]
  },
  {
   "cell_type": "code",
   "execution_count": null,
   "id": "7a3dae06",
   "metadata": {},
   "outputs": [],
   "source": [
    "while True:\n",
    "        client_socket,addr = server_socket.accept()\n",
    "        print('GOT CONNECTION FROM:',addr)\n",
    "        if client_socket:\n",
    "            vid = cv2.VideoCapture('http://192.168.0.105:4747/video')\n",
    "            \n",
    "            while(vid.isOpened()):\n",
    "                img,frame = vid.read()\n",
    "                a = pickle.dumps(frame)\n",
    "                message = struct.pack(\"Q\",len(a))+a\n",
    "                client_socket.sendall(message)\n",
    "                cv2.imshow('TRANSMITTING VIDEO',frame)\n",
    "                key = cv2.waitKey(1) & 0xFF\n",
    "                if key == ord('q'):\n",
    "                    client_socket.close()"
   ]
  },
  {
   "cell_type": "code",
   "execution_count": null,
   "id": "0e3fd3db",
   "metadata": {},
   "outputs": [],
   "source": []
  }
 ],
 "metadata": {
  "kernelspec": {
   "display_name": "Python 3",
   "language": "python",
   "name": "python3"
  },
  "language_info": {
   "codemirror_mode": {
    "name": "ipython",
    "version": 3
   },
   "file_extension": ".py",
   "mimetype": "text/x-python",
   "name": "python",
   "nbconvert_exporter": "python",
   "pygments_lexer": "ipython3",
   "version": "3.8.8"
  }
 },
 "nbformat": 4,
 "nbformat_minor": 5
}
